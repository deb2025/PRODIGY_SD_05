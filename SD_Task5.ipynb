{
  "nbformat": 4,
  "nbformat_minor": 0,
  "metadata": {
    "colab": {
      "provenance": []
    },
    "kernelspec": {
      "name": "python3",
      "display_name": "Python 3"
    },
    "language_info": {
      "name": "python"
    }
  },
  "cells": [
    {
      "cell_type": "code",
      "execution_count": 1,
      "metadata": {
        "colab": {
          "base_uri": "https://localhost:8080/"
        },
        "id": "lW4XK2sZJAIU",
        "outputId": "afedc24e-5f42-4ca7-cc1c-550884e335a2"
      },
      "outputs": [
        {
          "output_type": "stream",
          "name": "stdout",
          "text": [
            "Requirement already satisfied: beautifulsoup4 in /usr/local/lib/python3.10/dist-packages (4.11.2)\n",
            "Requirement already satisfied: requests in /usr/local/lib/python3.10/dist-packages (2.31.0)\n",
            "Requirement already satisfied: pandas in /usr/local/lib/python3.10/dist-packages (1.5.3)\n",
            "Requirement already satisfied: soupsieve>1.2 in /usr/local/lib/python3.10/dist-packages (from beautifulsoup4) (2.5)\n",
            "Requirement already satisfied: charset-normalizer<4,>=2 in /usr/local/lib/python3.10/dist-packages (from requests) (3.2.0)\n",
            "Requirement already satisfied: idna<4,>=2.5 in /usr/local/lib/python3.10/dist-packages (from requests) (3.4)\n",
            "Requirement already satisfied: urllib3<3,>=1.21.1 in /usr/local/lib/python3.10/dist-packages (from requests) (2.0.4)\n",
            "Requirement already satisfied: certifi>=2017.4.17 in /usr/local/lib/python3.10/dist-packages (from requests) (2023.7.22)\n",
            "Requirement already satisfied: python-dateutil>=2.8.1 in /usr/local/lib/python3.10/dist-packages (from pandas) (2.8.2)\n",
            "Requirement already satisfied: pytz>=2020.1 in /usr/local/lib/python3.10/dist-packages (from pandas) (2023.3.post1)\n",
            "Requirement already satisfied: numpy>=1.21.0 in /usr/local/lib/python3.10/dist-packages (from pandas) (1.23.5)\n",
            "Requirement already satisfied: six>=1.5 in /usr/local/lib/python3.10/dist-packages (from python-dateutil>=2.8.1->pandas) (1.16.0)\n"
          ]
        }
      ],
      "source": [
        "pip install beautifulsoup4 requests pandas"
      ]
    },
    {
      "cell_type": "code",
      "source": [
        "import requests\n",
        "from bs4 import BeautifulSoup\n",
        "import pandas as pd\n",
        "\n",
        "\n",
        "url = 'https://www.googleadservices.com/pagead/aclk?sa=L&ai=DChcSEwiEwIC6m9mBAxWRbisKHf-6CykYABAAGgJzZg&ase=2&gclid=Cj0KCQjw1OmoBhDXARIsAAAYGSEYi8MkRAQCjdsSbtMTiUrgW0yI2c2qjOFqYnOhPmFCg8s54Zdm1rEaAtxTEALw_wcB&ohost=www.google.com&cid=CAESVuD2vvS22qpo2Ao1bWrKpHX7BAFjRMHNICkrd_H0QoqvjjDjWjzuJEZ1TBr0sTFwmnuvqoc6oEZHuonFdi8Ps_9RpjU880aWMmJ-V3rYu5a35FNtyVki&sig=AOD64_29ZPXlpQNVD98U6GsHgYW_8V3xxw&q&nis=4&adurl&ved=2ahUKEwj9hvq5m9mBAxW-TmwGHV_xBWEQ0Qx6BAgJEAE'\n",
        "\n",
        "\n",
        "response = requests.get(url)\n",
        "\n",
        "\n",
        "if response.status_code == 200:\n",
        "    soup = BeautifulSoup(response.text, 'html.parser')\n",
        "\n",
        "\n",
        "    product_names = []\n",
        "    product_prices = []\n",
        "    product_ratings = []\n",
        "\n",
        "\n",
        "    product_elements = soup.find_all('div', class_='product-item')\n",
        "    for product in product_elements:\n",
        "        name = product.find('h2', class_='product-name').text.strip()\n",
        "        price = product.find('span', class_='product-price').text.strip()\n",
        "        rating = product.find('span', class_='product-rating').text.strip()\n",
        "\n",
        "        product_names.append(name)\n",
        "        product_prices.append(price)\n",
        "        product_ratings.append(rating)\n",
        "\n",
        "\n",
        "    product_data = pd.DataFrame({\n",
        "        'Name': product_names,\n",
        "        'Price': product_prices,\n",
        "        'Rating': product_ratings\n",
        "    })\n",
        "\n",
        "\n",
        "    product_data.to_csv('product_info.csv', index=False)\n",
        "\n",
        "    print(\"Data has been scraped and saved to 'product_info.csv'.\")\n",
        "else:\n",
        "    print(\"Failed to retrieve the webpage. Please check the URL or your internet connection.\")\n"
      ],
      "metadata": {
        "colab": {
          "base_uri": "https://localhost:8080/"
        },
        "id": "aDY2KqVeJakB",
        "outputId": "93a9a8bf-41d1-442b-9f1c-3f7ed3682ea9"
      },
      "execution_count": 3,
      "outputs": [
        {
          "output_type": "stream",
          "name": "stdout",
          "text": [
            "Data has been scraped and saved to 'product_info.csv'.\n"
          ]
        }
      ]
    }
  ]
}